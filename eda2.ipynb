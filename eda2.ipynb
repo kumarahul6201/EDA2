{
 "cells": [
  {
   "cell_type": "code",
   "execution_count": 26,
   "id": "4bdd320c-4a7d-4410-b969-b5d5f153ebed",
   "metadata": {},
   "outputs": [],
   "source": [
    "# Import necessary libraries\n",
    "\n",
    "\n",
    "\n",
    "import pandas as pd\n",
    "import numpy as np\n",
    "from sklearn.preprocessing import StandardScaler, MinMaxScaler, OneHotEncoder, LabelEncoder\n",
    "from sklearn.impute import SimpleImputer\n",
    "from sklearn.ensemble import IsolationForest\n",
    "import matplotlib.pyplot as plt\n",
    "import seaborn as sns\n",
    "\n",
    "data = pd.read_csv('adult_with_headers.csv')\n",
    "\n",
    "\n",
    "\n",
    "\n",
    "\n"
   ]
  },
  {
   "cell_type": "code",
   "execution_count": 27,
   "id": "9abb11e9-f66c-4d4f-bdae-00815c44903b",
   "metadata": {},
   "outputs": [
    {
     "name": "stdout",
     "output_type": "stream",
     "text": [
      "Column Names: Index(['age', 'workclass', 'fnlwgt', 'education', 'education_num',\n",
      "       'marital_status', 'occupation', 'relationship', 'race', 'sex',\n",
      "       'capital_gain', 'capital_loss', 'hours_per_week', 'native_country',\n",
      "       'income'],\n",
      "      dtype='object')\n"
     ]
    }
   ],
   "source": [
    "# column names\n",
    "print(\"Column Names:\", data.columns)\n",
    "\n",
    "# Standarding column names to lowercase and replace hyphens with underscores\n",
    "data.columns = data.columns.str.lower().str.replace('-', '_')\n"
   ]
  },
  {
   "cell_type": "markdown",
   "id": "ec55f9b2-1c4e-4c00-8444-7d61886364f7",
   "metadata": {},
   "source": [
    "#  Data Exploration and Preprocessing"
   ]
  },
  {
   "cell_type": "code",
   "execution_count": 29,
   "id": "ad0d0fca-d6bd-4e58-9081-7f6dbefc5334",
   "metadata": {},
   "outputs": [
    {
     "name": "stdout",
     "output_type": "stream",
     "text": [
      "Data Shape: (32561, 15)\n",
      "Data Types:\n",
      " age                int64\n",
      "workclass         object\n",
      "fnlwgt             int64\n",
      "education         object\n",
      "education_num      int64\n",
      "marital_status    object\n",
      "occupation        object\n",
      "relationship      object\n",
      "race              object\n",
      "sex               object\n",
      "capital_gain       int64\n",
      "capital_loss       int64\n",
      "hours_per_week     int64\n",
      "native_country    object\n",
      "income            object\n",
      "dtype: object\n",
      "Summary Statistics:\n",
      "                  age workclass        fnlwgt education  education_num  \\\n",
      "count   32561.000000     32561  3.256100e+04     32561   32561.000000   \n",
      "unique           NaN         9           NaN        16            NaN   \n",
      "top              NaN   Private           NaN   HS-grad            NaN   \n",
      "freq             NaN     22696           NaN     10501            NaN   \n",
      "mean       38.581647       NaN  1.897784e+05       NaN      10.080679   \n",
      "std        13.640433       NaN  1.055500e+05       NaN       2.572720   \n",
      "min        17.000000       NaN  1.228500e+04       NaN       1.000000   \n",
      "25%        28.000000       NaN  1.178270e+05       NaN       9.000000   \n",
      "50%        37.000000       NaN  1.783560e+05       NaN      10.000000   \n",
      "75%        48.000000       NaN  2.370510e+05       NaN      12.000000   \n",
      "max        90.000000       NaN  1.484705e+06       NaN      16.000000   \n",
      "\n",
      "             marital_status       occupation relationship    race    sex  \\\n",
      "count                 32561            32561        32561   32561  32561   \n",
      "unique                    7               15            6       5      2   \n",
      "top      Married-civ-spouse   Prof-specialty      Husband   White   Male   \n",
      "freq                  14976             4140        13193   27816  21790   \n",
      "mean                    NaN              NaN          NaN     NaN    NaN   \n",
      "std                     NaN              NaN          NaN     NaN    NaN   \n",
      "min                     NaN              NaN          NaN     NaN    NaN   \n",
      "25%                     NaN              NaN          NaN     NaN    NaN   \n",
      "50%                     NaN              NaN          NaN     NaN    NaN   \n",
      "75%                     NaN              NaN          NaN     NaN    NaN   \n",
      "max                     NaN              NaN          NaN     NaN    NaN   \n",
      "\n",
      "        capital_gain  capital_loss  hours_per_week  native_country  income  \n",
      "count   32561.000000  32561.000000    32561.000000           32561   32561  \n",
      "unique           NaN           NaN             NaN              42       2  \n",
      "top              NaN           NaN             NaN   United-States   <=50K  \n",
      "freq             NaN           NaN             NaN           29170   24720  \n",
      "mean     1077.648844     87.303830       40.437456             NaN     NaN  \n",
      "std      7385.292085    402.960219       12.347429             NaN     NaN  \n",
      "min         0.000000      0.000000        1.000000             NaN     NaN  \n",
      "25%         0.000000      0.000000       40.000000             NaN     NaN  \n",
      "50%         0.000000      0.000000       40.000000             NaN     NaN  \n",
      "75%         0.000000      0.000000       45.000000             NaN     NaN  \n",
      "max     99999.000000   4356.000000       99.000000             NaN     NaN  \n",
      "Missing Values:\n",
      " age               0\n",
      "workclass         0\n",
      "fnlwgt            0\n",
      "education         0\n",
      "education_num     0\n",
      "marital_status    0\n",
      "occupation        0\n",
      "relationship      0\n",
      "race              0\n",
      "sex               0\n",
      "capital_gain      0\n",
      "capital_loss      0\n",
      "hours_per_week    0\n",
      "native_country    0\n",
      "income            0\n",
      "dtype: int64\n",
      "Missing Values after replacement:\n",
      " age                  0\n",
      "workclass         1836\n",
      "fnlwgt               0\n",
      "education            0\n",
      "education_num        0\n",
      "marital_status       0\n",
      "occupation        1843\n",
      "relationship         0\n",
      "race                 0\n",
      "sex                  0\n",
      "capital_gain         0\n",
      "capital_loss         0\n",
      "hours_per_week       0\n",
      "native_country     583\n",
      "income               0\n",
      "dtype: int64\n",
      "\n"
     ]
    }
   ],
   "source": [
    "# Basic Data Exploration\n",
    "print(\"Data Shape:\", data.shape)\n",
    "print(\"Data Types:\\n\", data.dtypes)\n",
    "print(\"Summary Statistics:\\n\", data.describe(include='all'))\n",
    "print(\"Missing Values:\\n\", data.isnull().sum())\n",
    "\n",
    "# Handle Missing Values\n",
    "# Assuming ' ?' represents missing values in the dataset\n",
    "data.replace(' ?', np.nan, inplace=True)\n",
    "missing_values = data.isnull().sum()\n",
    "print(\"Missing Values after replacement:\\n\", missing_values)\n",
    "\n",
    "# Impute missing values for categorical columns with the most frequent value\n",
    "cat_cols = data.select_dtypes(include=['object']).columns\n",
    "imputer = SimpleImputer(strategy='most_frequent')\n",
    "data[cat_cols] = imputer.fit_transform(data[cat_cols])\n",
    "\n",
    "#  Apply Scaling Techniques to Numerical Features\n",
    "num_cols = data.select_dtypes(include=['int64', 'float64']).columns\n",
    "\n",
    "# Standard Scaling\n",
    "scaler_standard = StandardScaler()\n",
    "data_standard_scaled = data.copy()\n",
    "data_standard_scaled[num_cols] = scaler_standard.fit_transform(data_standard_scaled[num_cols])\n",
    "\n",
    "# Min-Max Scaling\n",
    "scaler_minmax = MinMaxScaler()\n",
    "data_minmax_scaled = data.copy()\n",
    "data_minmax_scaled[num_cols] = scaler_minmax.fit_transform(data_minmax_scaled[num_cols])\n",
    "\n",
    "# Scenarios where each scaling technique is preferred\n",
    "scaling_discussion = \"\"\n",
    "\n",
    "print(scaling_discussion)\n"
   ]
  },
  {
   "cell_type": "markdown",
   "id": "04de643f-1ff3-4b70-968b-ce4eb5e9dd19",
   "metadata": {},
   "source": [
    "#  Encoding Techniques\n"
   ]
  },
  {
   "cell_type": "code",
   "execution_count": 30,
   "id": "a8e73ee3-1814-4866-bb30-4e37679ef9c7",
   "metadata": {},
   "outputs": [
    {
     "name": "stdout",
     "output_type": "stream",
     "text": [
      "\n"
     ]
    }
   ],
   "source": [
    "\n",
    "\n",
    "#  One-Hot Encoding for categorical variables with less than 5 categories\n",
    "one_hot_cols = [col for col in cat_cols if data[col].nunique() < 5]\n",
    "data_one_hot_encoded = pd.get_dummies(data, columns=one_hot_cols, drop_first=True)\n",
    "\n",
    "#  Label Encoding for categorical variables with more than 5 categories\n",
    "label_cols = [col for col in cat_cols if data[col].nunique() >= 5]\n",
    "label_encoder = LabelEncoder()\n",
    "data_label_encoded = data.copy()\n",
    "for col in label_cols:\n",
    "    data_label_encoded[col] = label_encoder.fit_transform(data_label_encoded[col])\n",
    "\n",
    "# Pros and Cons of Encoding Techniques\n",
    "encoding_discussion = \"\"\n",
    "\n",
    "print(encoding_discussion)\n"
   ]
  },
  {
   "cell_type": "markdown",
   "id": "5c1ff08f-fe56-470a-b365-fd3b46b5bb02",
   "metadata": {},
   "source": [
    "# Feature Engineering\n"
   ]
  },
  {
   "cell_type": "code",
   "execution_count": 41,
   "id": "d2be7b79-ef50-450a-a7c2-7212695a6caa",
   "metadata": {},
   "outputs": [
    {
     "name": "stdout",
     "output_type": "stream",
     "text": [
      "Skewness of Numerical Features:\n",
      " age               0.558743\n",
      "fnlwgt            1.446980\n",
      "education_num    -0.311676\n",
      "capital_gain      3.096144\n",
      "capital_loss      4.594629\n",
      "hours_per_week    0.227643\n",
      "dtype: float64\n",
      "Skewness after log transformation of 'capital_gain': 3.0282191326348293\n"
     ]
    }
   ],
   "source": [
    "\n",
    "\n",
    "#  New Features\n",
    "data['hours_per_week_squared'] = data['hours_per_week'] ** 2\n",
    "data['age_hours_interaction'] = data['age'] * data['hours_per_week']\n",
    "\n",
    "# Rationale:\n",
    "# - 'hours_per_week_squared': Polynomial feature which might capture non-linear relationships.\n",
    "# - 'age_hours_interaction': Interaction feature to capture the combined effect of age and hours worked per week.\n",
    "\n",
    "# Transformation to Skewed Numerical Feature\n",
    "# Check skewness\n",
    "skewed_features = data[num_cols].skew()\n",
    "print(\"Skewness of Numerical Features:\\n\", skewed_features)\n",
    "\n",
    "# Applying log transformation to 'capital_gain' as an example\n",
    "data['capital_gain'] = np.log1p(data['capital_gain'])\n",
    "print(\"Skewness after log transformation of 'capital_gain':\", data['capital_gain'].skew())\n"
   ]
  },
  {
   "cell_type": "code",
   "execution_count": null,
   "id": "dbce5c17-876b-4a87-abe7-16e4197675cb",
   "metadata": {},
   "outputs": [],
   "source": []
  }
 ],
 "metadata": {
  "kernelspec": {
   "display_name": "Python 3 (ipykernel)",
   "language": "python",
   "name": "python3"
  },
  "language_info": {
   "codemirror_mode": {
    "name": "ipython",
    "version": 3
   },
   "file_extension": ".py",
   "mimetype": "text/x-python",
   "name": "python",
   "nbconvert_exporter": "python",
   "pygments_lexer": "ipython3",
   "version": "3.11.5"
  }
 },
 "nbformat": 4,
 "nbformat_minor": 5
}
